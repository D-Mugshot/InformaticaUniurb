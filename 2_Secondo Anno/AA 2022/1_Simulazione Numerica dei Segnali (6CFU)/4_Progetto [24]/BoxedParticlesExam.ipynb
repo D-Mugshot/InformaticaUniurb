{
 "cells": [
  {
   "cell_type": "markdown",
   "metadata": {},
   "source": [
    "# Particles in a box, version 4\n",
    "\n",
    "In this assignment, we want you to code, in 2D, the *elastic* collision of $N=N_A+N_B$ particles, modeled as _circular disks_ of a given radius, confined inside a strip.\n",
    "\n",
    "The strip is rectangular, with a size $8$ in the horizontal $X$ direction, and $16$ in the vertical $Y$ direction.\n",
    "\n",
    "A constant gravity field acts on the particles, directed along the (negative) vertical $Y$ direction.\n",
    "\n",
    "\n",
    "## Collisions with the box walls\n",
    "\n",
    "The collisions with the four internal sides of the box are *elastic*, namely conserve energy: this simply means that in the collision the component of the particle velocity **parallel** to a box side is unchanged, whereas the component **perpendicolar** to the box side is reversed."
   ]
  },
  {
   "cell_type": "markdown",
   "metadata": {},
   "source": [
    "## Collisions between particles\n",
    "\n",
    "Also collisions between the particles are elastic, but require a more complicated treatment.\n",
    "\n",
    "We assume that there are **two** kind of particles, in fact discs having _all_ the same given radius $R$, but with different masses $M_A, M_B$.\n",
    "\n",
    "Using conservation of energy and momentum, it is possible to show that if two particles have velocities $\\vec{v}_1$ and $\\vec{v}_2$ at the time of the collision, and if $\\vec{r}_{rel} = \\vec{r}_1 - \\vec{r}_2$ is the relative position of the two particles' centers, and $\\vec{v}_{rel} = \\vec{v}_1 - \\vec{v}_2$ is the relative velocity before the collision, then after the collision one has *new* velocities\n",
    "\n",
    "\\begin{eqnarray}\n",
    "\\vec{v}^\\prime_1 &=& \\vec{v}_1 - \\frac{2 M_2}{M_1 + M_2}\\frac{\\left(\\vec{v}_{rel}\\cdot\\vec{r}_{rel}\\right)}{\\left(\\vec{r}_{rel}\\cdot\\vec{r}_{rel}\\right)}\\vec{r}_{rel}\\nonumber\\\\\n",
    "\\vec{v}^\\prime_2 &=& \\vec{v}_2 + \\frac{2 M_1}{M_1 + M_2}\\frac{\\left(\\vec{v}_{rel}\\cdot\\vec{r}_{rel}\\right)}{\\left(\\vec{r}_{rel}\\cdot\\vec{r}_{rel}\\right)}\\vec{r}_{rel}\n",
    "\\end{eqnarray}\n",
    "\n",
    "where $\\left(\\vec{a}\\cdot\\vec{b}\\right)\\equiv a_x b_x + a_y b_y$ is the usual scalar (or *dot*) product of vectors.\n",
    "\n",
    "These formulas reflect the fact that the colliding disks repel each other along the direction which joins their centers. The formulas are valid for arbitrary masses $M_1, M_2$, and of course simplify a bit for those collisions involving particles with equal mass.\n",
    "\n",
    "**Note**: in principle one could have also three particle collisions, but at low particle densities they are rare and can be disregarded."
   ]
  },
  {
   "cell_type": "markdown",
   "metadata": {},
   "source": [
    "## Energy considerations\n",
    "\n",
    "In the real world, energy is conserved; this means that, if one defines the gravitational potential energy\n",
    "\n",
    "\\begin{equation}\n",
    "U_i = M_i g y_i\n",
    "\\end{equation}\n",
    "\n",
    "of particle $i$, where $y_i$ is the distance of the particle from the bottom of the box, and the kinetic energy\n",
    "\n",
    "\\begin{equation}\n",
    "K_i = \\frac{1}{2} M_i v_i^2 = \\frac{1}{2} M_i \\left(\\vec{v}_i\\cdot\\vec{v}_i\\right)\n",
    "\\end{equation}\n",
    "\n",
    "the *sum* of these quantities, called mechanical energy, over *all* particles is constant in time.\n",
    "Or equivalently, the average mechanical energy per particle is constant.\n",
    "\n",
    "This conservation will be violated because of numerical errors: the actual behaviour will depend **both** on the integration step $\\Delta t$ and on the chosen integration method.\n",
    "\n",
    "Energy will not be constant, and one of the goals of this assignment is to see how it varies."
   ]
  },
  {
   "cell_type": "markdown",
   "metadata": {},
   "source": [
    "## Coding assignment\n",
    "\n",
    "Write structured code, or a class, to perform the following tasks:\n",
    "\n",
    "* **INITIALIZATION** Assume that particles are confined in a box with a size $8$ in the horizontal $X$ direction, and $16$ in the vertical $Y$ direction. Inside the box, place initially $N_A = 30$ particles with mass $M_A = 0.025$, and $N_B = 30$ particles with mass $M_B = 0.05$. Assume for all particles the _same_ radius $R = 0.04$. Place the particles at random positions in the box, with the additional limit $y\\leq 8$, and with a random velocity vector, uniformly distributed in the interval $[-v_0, v_0]$, for each velocity component. You will have to experiment a bit with the parameter $v_0$; start for instance with $v_0=0.5$. Write the code so that you can specify also the initial seed and repeat the simulation, if needed, starting with the same initial conditions.\n",
    "* **EVOLUTION & MEASUREMENT** Simulate the motion of the particles under the effect of gravity, namely under a constant _down_ acceleration $g = 9.81$, subject to collisions with the box walls and among the particles. You will want:\n",
    "    * to evolve the position of the particles, step by step, for a total time $T$ with time steps $\\Delta t$, hence for $N=T/\\Delta t$ steps. Note that the motion of a particle in a constant gravity field can be written exactly, so at each step one has simply, for a given particle\n",
    "    \\begin{eqnarray}\n",
    "    x(t+\\Delta t) &=& x(t) + v_x(t) \\Delta t\\\\\n",
    "    y(t+\\Delta t) &=& y(t) + v_y(t) \\Delta t - \\frac{1}{2} g (\\Delta t)^2\\\\\n",
    "    v_x(t+\\Delta t) &=& v_x(t)\\\\\n",
    "    v_y(t+\\Delta t) &=& v_y(t) - g \\Delta t\n",
    "    \\end{eqnarray}\n",
    "    * after each update of particles' positions, check for collisions with the box sides, and among particles, and apply appropriate changes to the velocities, as explained before.\n",
    "    * At a sampling step $\\Delta t_s$, in general a multiple of $\\Delta t$, please measure the following quantities:\n",
    "        * The positions and velocities of all particles, to be stored in appropriate arrays. As an example if $N_s = \\frac{T}{\\Delta t_s}$ is the number of samples, one will need an array $N_s\\times N_A\\times 2$ to store the $2$ components of the position for $N_A$ particles of the species $A$ for $N_S$ samples.\n",
    "        * The average kinetic energy of the particles' species $A$:\n",
    "         \\begin{equation}\n",
    "         \\langle K_A\\rangle =\\frac{1}{2 N_A} M_A\\sum_{i=1}^{N_A} (\\vec{v}_i\\cdot\\vec{v}_i)\n",
    "         \\end{equation}\n",
    "         (which will require an array of size $N_s$).\n",
    "        * The average kinetic energy of the particles' species $B$:\n",
    "        \\begin{equation}\n",
    "        \\langle K_B\\rangle =\\frac{1}{2 N_B} M_B\\sum_{i=1}^{N_B} (\\vec{v}_i\\cdot\\vec{v}_i)\n",
    "        \\end{equation}\n",
    "        * The average potential energy of the particles' species $A$:\n",
    "        \\begin{equation}\n",
    "        \\langle U_A\\rangle = \\frac{1}{N_A} M_A g \\sum_{i=1}^{N_A} y_i\n",
    "        \\end{equation}\n",
    "        * The average potential energy of the particles' species $B$:\n",
    "        \\begin{equation}\n",
    "        \\langle U_B\\rangle = \\frac{1}{N_B} M_B g \\sum_{i=1}^{N_B} y_i\n",
    "        \\end{equation}\n",
    "* **VISUALISATION**\n",
    "    * Plot the average energies, saved in arrays during the measurement phase, as a function of time.\n",
    "    * Plot the positions and velocities of all particles (and the box walls) at several times, using the `matplotlib` method `quiver` to display also the velocities (properly rescaled), and using different colors for the two particle species. I suggest to make these plots a few times: at beginning and end of the simulation, and at several times (say 10) during the evolution, to check what is going on.\n",
    "    * Animate the motion of all particles over the measurement time. Use one of the many examples provided during the lessons, based on the `animate` function from the `Matplotlib`. Since you have already saved the positions of the particles at all measurement steps in arrays, it remains only to reuse the data, first setting up the graphical structures and then calling repeatedly a function which picks the appropriate elements from the saved arrays in order to update the position of the particles."
   ]
  },
  {
   "cell_type": "markdown",
   "metadata": {},
   "source": [
    "## Simulation assignments\n",
    "\n",
    "### Energy evolution\n",
    "\n",
    "* To debug the code, check how the energy evolves. Repeat the simulation over a time interval $T = 100 s$, with different $\\Delta t$ simulation steps, say $0.004,\\; 0.002,\\; 0.001$, and for the same sampling step $\\Delta t_s = 0.04$, and compare the plots of the *total* energy $E_{tot}$ (kinetic + potential) as a function of time\n",
    "\\begin{equation}\n",
    "E_{tot} = N_A \\left(\\langle K_A\\rangle +\\langle U_A\\rangle\\right) + N_B \\left(\\langle K_B\\rangle +\\langle U_B\\rangle\\right)\n",
    "\\end{equation}\n",
    "if the simulation is correct, the total energy $E_{tot}$ should be *approximately* constant, and things should get better with smaller $\\Delta t$.\n",
    "* Using the smallest $\\Delta t$ simulation step, plot now the *average* kinetic energy for each species $\\langle K_A\\rangle, \\langle K_B\\rangle$\n",
    "as a function of time. \n",
    "\n",
    "If the simulation is correct, the average kinetic energies for the two species, even though different at the beginning, should tend to become equal as time passes: this is an example of the *equipartition theorem*.\n",
    "\n",
    "If $T=100 s$ is insufficient to achieve equilibrium, please increase $T$. Check at which time (call it $T_{therm}$) the system has reached an equilibrium, for instance requiring that the two kinetic energies are equal within $10\\%$.\n",
    "\n",
    "Check what happens trying different values of the parameter $v_0$: does the time needed to achieve equilibrium change? Is equilibrium achieved, in the first place?\n",
    "\n",
    "**Please note** the speed $v$ should be chosen _small_ with respect to the ratio $\\frac{R}{\\Delta t}$ of the size of the disks and the simulation step: otherwise, the detection of the collision will be inaccurate. Depending, therefore, on the values of velocity $v$ that can be reached, you may have to adjust $\\Delta t$.\n",
    "As an estimate, consider that a particle having initial velocity $v_0$ and falling from an height $L$ will achieve a speed $v_{max}=v_0 + \\sqrt{2 g L}$."
   ]
  },
  {
   "cell_type": "markdown",
   "metadata": {},
   "source": [
    "### Distribution of velocities\n",
    "\n",
    "* Make now a longer simulation, over a time of $500 s$, plus the thermalisation time $T_{therm}$ defined before: $T = T_{therm} + 500$. The idea is to reach equilibrium, then use only the measurements taken during the last $500 s$.\n",
    "* Use the array containing the velocities to compute for each particle and at each time the quantity $v^2 = (\\vec{v}\\cdot\\vec{v})$, then use this quantity to populate two histograms, separate for each particle species: these histograms will represent the distributions of the velocities, for each particle species.\n",
    "* Use the array containing the positions to populate two histograms, one for each particle species, containing the height of the particle, that is the distance from the bottom of the box: these histograms will represent the distribution of the heights.\n",
    "\n",
    "From these tests one expects to find distributions similar to the Maxwell-Boltzmann ones, valid for the particles in a gas.\n",
    "\n",
    "In particular, for the (square) velocities one should obtain an exponential distribution, namely the probabily of finding a particle of mass $m$ in the interval of square velocities $v^2, v^2 + d v^2$ is\n",
    "\n",
    "\\begin{equation}\n",
    "P_{v^2}(v^2, v^2 + d v^2) = \\frac{m}{2 kT}\\exp\\left[-\\frac{\\frac{1}{2} m v^2}{kT}\\right] dv^2\n",
    "\\end{equation}\n",
    "\n",
    "Also for the heights $y$ one should obtain an exponential distribution, of the form\n",
    "\\begin{equation}\n",
    "P_y(y, y + dy) = \\frac{g m}{kT}\\exp\\left[-\\frac{m g y}{kT}\\right] dy\n",
    "\\end{equation}\n",
    "\n",
    "Here $kT$ is a quantity that we can obtain from the average kinetic energy, for instance one can define\n",
    "\n",
    "\\begin{equation}\n",
    "kT = \\frac{1}{2} \\langle M_A v^2\\rangle = \\langle K_A\\rangle\n",
    "\\end{equation}\n",
    "\n",
    "It is clear that $kT$ is **not** a parameter of the simulation, but depends on the initial choice of $v_0$. A larger (or smaller) $v_0$ correspond to larger (or smaller) \"temperatures\"; try different values of $v_0$ and check what happens. For instance, try $v_0 = 0.1, 0.5, 1.0, 2.0$, but feel free to choose other values to illustrate differences. Remember to check that the $\\Delta t$ value is compatible to simulate the collisions correctly."
   ]
  },
  {
   "cell_type": "markdown",
   "metadata": {},
   "source": [
    "## Hints\n",
    "\n",
    "* Use `numpy` structures and functions as much as possible, in order to write efficient, *vectorized* code, otherwise the simulation may be **very** slow.\n",
    "* The collision step requires computing the distance of the $N$ particles, which is an expensive operation since it scales as $N^2$ .\n",
    " Exploit `numpy` libraries as suggested in the example of planetary motions https://blended.uniurb.it/moodle/mod/folder/view.php?id=88765 to compute the distances efficiently, in particular study and reuse the code in the `distFast` function."
   ]
  },
  {
   "cell_type": "code",
   "execution_count": null,
   "metadata": {},
   "outputs": [],
   "source": []
  }
 ],
 "metadata": {
  "kernelspec": {
   "display_name": "Python 3 (ipykernel)",
   "language": "python",
   "name": "python3"
  },
  "language_info": {
   "codemirror_mode": {
    "name": "ipython",
    "version": 3
   },
   "file_extension": ".py",
   "mimetype": "text/x-python",
   "name": "python",
   "nbconvert_exporter": "python",
   "pygments_lexer": "ipython3",
   "version": "3.9.13"
  }
 },
 "nbformat": 4,
 "nbformat_minor": 2
}
